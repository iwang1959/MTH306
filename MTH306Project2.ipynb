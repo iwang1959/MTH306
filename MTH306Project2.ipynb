{
 "cells": [
  {
   "cell_type": "code",
   "execution_count": 2,
   "id": "998ba2c7",
   "metadata": {},
   "outputs": [],
   "source": [
    " #Ivan Wang #50414321"
   ]
  },
  {
   "cell_type": "code",
   "execution_count": 3,
   "id": "c3ca590c",
   "metadata": {},
   "outputs": [],
   "source": [
    "#Raphael #The School of Athens #High Renaissance"
   ]
  },
  {
   "cell_type": "code",
   "execution_count": 4,
   "id": "235b96ca",
   "metadata": {},
   "outputs": [],
   "source": [
    "from resources306 import*"
   ]
  },
  {
   "cell_type": "code",
   "execution_count": 5,
   "id": "512e8979",
   "metadata": {},
   "outputs": [],
   "source": [
    "from sympy import*\n",
    "init_printing()"
   ]
  },
  {
   "cell_type": "code",
   "execution_count": 36,
   "id": "7aedcbcc",
   "metadata": {},
   "outputs": [
    {
     "data": {
      "text/latex": [
       "$\\displaystyle \\left[\\begin{matrix}4 & 2 & 1\\\\3 & -1 & 1\\\\0 & 0 & 0\\end{matrix}\\right]$"
      ],
      "text/plain": [
       "⎡4  2   1⎤\n",
       "⎢        ⎥\n",
       "⎢3  -1  1⎥\n",
       "⎢        ⎥\n",
       "⎣0  0   0⎦"
      ]
     },
     "execution_count": 36,
     "metadata": {},
     "output_type": "execute_result"
    }
   ],
   "source": [
    "A = Matrix ( [ [4,2,1] , [3,-1,1] , [0,0,0] ] )\n",
    "A"
   ]
  },
  {
   "cell_type": "code",
   "execution_count": 37,
   "id": "8d6d7a66",
   "metadata": {},
   "outputs": [],
   "source": [
    "lamda = symbols('lamda')"
   ]
  },
  {
   "cell_type": "code",
   "execution_count": 38,
   "id": "7804ed97",
   "metadata": {},
   "outputs": [
    {
     "data": {
      "image/png": "[encoded data removed]",
      "text/latex": [
       "$\\displaystyle \\operatorname{PurePoly}{\\left( \\lambda^{3} - 3 \\lambda^{2} - 10 \\lambda, \\lambda, domain=\\mathbb{Z} \\right)}$"
      ],
      "text/plain": [
       "PurePoly(lamda**3 - 3*lamda**2 - 10*lamda, lamda, domain='ZZ')"
      ]
     },
     "execution_count": 38,
     "metadata": {},
     "output_type": "execute_result"
    }
   ],
   "source": [
    "p = A.charpoly(lamda)\n",
    "p"
   ]
  },
  {
   "cell_type": "code",
   "execution_count": 39,
   "id": "a25ecdd9",
   "metadata": {},
   "outputs": [
    {
     "data": {
      "image/png": "[encoded data removed]",
      "text/latex": [
       "$\\displaystyle \\lambda \\left(\\lambda - 5\\right) \\left(\\lambda + 2\\right)$"
      ],
      "text/plain": [
       "λ⋅(λ - 5)⋅(λ + 2)"
      ]
     },
     "execution_count": 39,
     "metadata": {},
     "output_type": "execute_result"
    }
   ],
   "source": [
    "factor(p.as_expr())"
   ]
  },
  {
   "cell_type": "code",
   "execution_count": 40,
   "id": "d416c910",
   "metadata": {},
   "outputs": [
    {
     "data": {
      "image/png": "[encoded data removed]",
      "text/latex": [
       "$\\displaystyle \\left\\{ -2 : 1, \\  0 : 1, \\  5 : 1\\right\\}$"
      ],
      "text/plain": [
       "{-2: 1, 0: 1, 5: 1}"
      ]
     },
     "execution_count": 40,
     "metadata": {},
     "output_type": "execute_result"
    }
   ],
   "source": [
    "A.eigenvals()"
   ]
  },
  {
   "cell_type": "code",
   "execution_count": 41,
   "id": "ead478c0",
   "metadata": {},
   "outputs": [
    {
     "data": {
      "text/latex": [
       "$\\displaystyle \\left[ \\left( -2, \\  1, \\  \\left[ \\left[\\begin{matrix}- \\frac{1}{3}\\\\1\\\\0\\end{matrix}\\right]\\right]\\right), \\  \\left( 0, \\  1, \\  \\left[ \\left[\\begin{matrix}- \\frac{3}{10}\\\\\\frac{1}{10}\\\\1\\end{matrix}\\right]\\right]\\right), \\  \\left( 5, \\  1, \\  \\left[ \\left[\\begin{matrix}2\\\\1\\\\0\\end{matrix}\\right]\\right]\\right)\\right]$"
      ],
      "text/plain": [
       "⎡⎛       ⎡⎡-1/3⎤⎤⎞  ⎛      ⎡⎡-3/10⎤⎤⎞  ⎛      ⎡⎡2⎤⎤⎞⎤\n",
       "⎢⎜       ⎢⎢    ⎥⎥⎟  ⎜      ⎢⎢     ⎥⎥⎟  ⎜      ⎢⎢ ⎥⎥⎟⎥\n",
       "⎢⎜-2, 1, ⎢⎢ 1  ⎥⎥⎟, ⎜0, 1, ⎢⎢1/10 ⎥⎥⎟, ⎜5, 1, ⎢⎢1⎥⎥⎟⎥\n",
       "⎢⎜       ⎢⎢    ⎥⎥⎟  ⎜      ⎢⎢     ⎥⎥⎟  ⎜      ⎢⎢ ⎥⎥⎟⎥\n",
       "⎣⎝       ⎣⎣ 0  ⎦⎦⎠  ⎝      ⎣⎣  1  ⎦⎦⎠  ⎝      ⎣⎣0⎦⎦⎠⎦"
      ]
     },
     "execution_count": 41,
     "metadata": {},
     "output_type": "execute_result"
    }
   ],
   "source": [
    "A.eigenvects()"
   ]
  },
  {
   "cell_type": "code",
   "execution_count": 42,
   "id": "a27ecf1b",
   "metadata": {},
   "outputs": [
    {
     "data": {
      "text/latex": [
       "$\\displaystyle \\left[\\begin{matrix}7 & -2 & 1\\\\0 & 7 & 1\\\\0 & 0 & 0\\end{matrix}\\right]$"
      ],
      "text/plain": [
       "⎡7  -2  1⎤\n",
       "⎢        ⎥\n",
       "⎢0  7   1⎥\n",
       "⎢        ⎥\n",
       "⎣0  0   0⎦"
      ]
     },
     "execution_count": 42,
     "metadata": {},
     "output_type": "execute_result"
    }
   ],
   "source": [
    "B = Matrix ( [ [7,-2,1] , [0,7,1] , [0,0,0] ] )\n",
    "B"
   ]
  },
  {
   "cell_type": "code",
   "execution_count": 43,
   "id": "a6007b9f",
   "metadata": {},
   "outputs": [],
   "source": [
    "lamda2 = symbols('lamda')"
   ]
  },
  {
   "cell_type": "code",
   "execution_count": 44,
   "id": "decf0ded",
   "metadata": {},
   "outputs": [
    {
     "data": {
      "image/png": "[encoded data removed]",
      "text/latex": [
       "$\\displaystyle \\operatorname{PurePoly}{\\left( \\lambda^{3} - 14 \\lambda^{2} + 49 \\lambda, \\lambda, domain=\\mathbb{Z} \\right)}$"
      ],
      "text/plain": [
       "PurePoly(lamda**3 - 14*lamda**2 + 49*lamda, lamda, domain='ZZ')"
      ]
     },
     "execution_count": 44,
     "metadata": {},
     "output_type": "execute_result"
    }
   ],
   "source": [
    "poly = B.charpoly(lamda2)\n",
    "poly"
   ]
  },
  {
   "cell_type": "code",
   "execution_count": 45,
   "id": "65e51c18",
   "metadata": {},
   "outputs": [
    {
     "data": {
      "image/png": "[encoded data removed]",
      "text/latex": [
       "$\\displaystyle \\lambda \\left(\\lambda - 7\\right)^{2}$"
      ],
      "text/plain": [
       "         2\n",
       "λ⋅(λ - 7) "
      ]
     },
     "execution_count": 45,
     "metadata": {},
     "output_type": "execute_result"
    }
   ],
   "source": [
    "factor(poly.as_expr())"
   ]
  },
  {
   "cell_type": "code",
   "execution_count": 46,
   "id": "c4ac757e",
   "metadata": {},
   "outputs": [
    {
     "data": {
      "image/png": "[encoded data removed]",
      "text/latex": [
       "$\\displaystyle \\left\\{ 0 : 1, \\  7 : 2\\right\\}$"
      ],
      "text/plain": [
       "{0: 1, 7: 2}"
      ]
     },
     "execution_count": 46,
     "metadata": {},
     "output_type": "execute_result"
    }
   ],
   "source": [
    "B.eigenvals()"
   ]
  },
  {
   "cell_type": "code",
   "execution_count": 47,
   "id": "99c8e048",
   "metadata": {},
   "outputs": [
    {
     "data": {
      "text/latex": [
       "$\\displaystyle \\left[ \\left( 0, \\  1, \\  \\left[ \\left[\\begin{matrix}- \\frac{9}{49}\\\\- \\frac{1}{7}\\\\1\\end{matrix}\\right]\\right]\\right), \\  \\left( 7, \\  2, \\  \\left[ \\left[\\begin{matrix}1\\\\0\\\\0\\end{matrix}\\right]\\right]\\right)\\right]$"
      ],
      "text/plain": [
       "⎡⎛      ⎡⎡-9/49⎤⎤⎞  ⎛      ⎡⎡1⎤⎤⎞⎤\n",
       "⎢⎜      ⎢⎢     ⎥⎥⎟  ⎜      ⎢⎢ ⎥⎥⎟⎥\n",
       "⎢⎜0, 1, ⎢⎢-1/7 ⎥⎥⎟, ⎜7, 2, ⎢⎢0⎥⎥⎟⎥\n",
       "⎢⎜      ⎢⎢     ⎥⎥⎟  ⎜      ⎢⎢ ⎥⎥⎟⎥\n",
       "⎣⎝      ⎣⎣  1  ⎦⎦⎠  ⎝      ⎣⎣0⎦⎦⎠⎦"
      ]
     },
     "execution_count": 47,
     "metadata": {},
     "output_type": "execute_result"
    }
   ],
   "source": [
    "B.eigenvects()"
   ]
  },
  {
   "cell_type": "code",
   "execution_count": 48,
   "id": "939c31cd",
   "metadata": {},
   "outputs": [
    {
     "data": {
      "text/latex": [
       "$\\displaystyle \\left[\\begin{matrix}6 & -17 & 1\\\\8 & -6 & 1\\\\0 & 0 & 0\\end{matrix}\\right]$"
      ],
      "text/plain": [
       "⎡6  -17  1⎤\n",
       "⎢         ⎥\n",
       "⎢8  -6   1⎥\n",
       "⎢         ⎥\n",
       "⎣0   0   0⎦"
      ]
     },
     "execution_count": 48,
     "metadata": {},
     "output_type": "execute_result"
    }
   ],
   "source": [
    "CoreyJR = Matrix ( [ [6,-17,1] , [8,-6,1] , [0,0,0] ] )\n",
    "CoreyJR"
   ]
  },
  {
   "cell_type": "code",
   "execution_count": 49,
   "id": "fdfab4f9",
   "metadata": {},
   "outputs": [],
   "source": [
    "lamda3 = symbols('lamda')"
   ]
  },
  {
   "cell_type": "code",
   "execution_count": 50,
   "id": "6cc05610",
   "metadata": {},
   "outputs": [
    {
     "data": {
      "image/png": "[encoded data removed]",
      "text/latex": [
       "$\\displaystyle \\operatorname{PurePoly}{\\left( \\lambda^{3} + 100 \\lambda, \\lambda, domain=\\mathbb{Z} \\right)}$"
      ],
      "text/plain": [
       "PurePoly(lamda**3 + 100*lamda, lamda, domain='ZZ')"
      ]
     },
     "execution_count": 50,
     "metadata": {},
     "output_type": "execute_result"
    }
   ],
   "source": [
    "polys = CoreyJR.charpoly(lamda3)\n",
    "polys"
   ]
  },
  {
   "cell_type": "code",
   "execution_count": 51,
   "id": "5c4c76b5",
   "metadata": {},
   "outputs": [
    {
     "data": {
      "image/png": "[encoded data removed]",
      "text/latex": [
       "$\\displaystyle \\lambda \\left(\\lambda^{2} + 100\\right)$"
      ],
      "text/plain": [
       "  ⎛ 2      ⎞\n",
       "λ⋅⎝λ  + 100⎠"
      ]
     },
     "execution_count": 51,
     "metadata": {},
     "output_type": "execute_result"
    }
   ],
   "source": [
    "factor(polys.as_expr())"
   ]
  },
  {
   "cell_type": "code",
   "execution_count": 52,
   "id": "9dc0108b",
   "metadata": {},
   "outputs": [
    {
     "data": {
      "image/png": "[encoded data removed]",
      "text/latex": [
       "$\\displaystyle \\left\\{ 0 : 1, \\  - 10 i : 1, \\  10 i : 1\\right\\}$"
      ],
      "text/plain": [
       "{0: 1, -10⋅ⅈ: 1, 10⋅ⅈ: 1}"
      ]
     },
     "execution_count": 52,
     "metadata": {},
     "output_type": "execute_result"
    }
   ],
   "source": [
    "CoreyJR.eigenvals()"
   ]
  },
  {
   "cell_type": "code",
   "execution_count": 53,
   "id": "a0c52095",
   "metadata": {},
   "outputs": [
    {
     "data": {
      "text/latex": [
       "$\\displaystyle \\left[ \\left( 0, \\  1, \\  \\left[ \\left[\\begin{matrix}- \\frac{11}{100}\\\\\\frac{1}{50}\\\\1\\end{matrix}\\right]\\right]\\right), \\  \\left( - 10 i, \\  1, \\  \\left[ \\left[\\begin{matrix}\\frac{3}{4} - \\frac{5 i}{4}\\\\1\\\\0\\end{matrix}\\right]\\right]\\right), \\  \\left( 10 i, \\  1, \\  \\left[ \\left[\\begin{matrix}\\frac{3}{4} + \\frac{5 i}{4}\\\\1\\\\0\\end{matrix}\\right]\\right]\\right)\\right]$"
      ],
      "text/plain": [
       "⎡⎛      ⎡⎡-11 ⎤⎤⎞  ⎛          ⎡⎡3   5⋅ⅈ⎤⎤⎞  ⎛         ⎡⎡3   5⋅ⅈ⎤⎤⎞⎤\n",
       "⎢⎜      ⎢⎢────⎥⎥⎟  ⎜          ⎢⎢─ - ───⎥⎥⎟  ⎜         ⎢⎢─ + ───⎥⎥⎟⎥\n",
       "⎢⎜      ⎢⎢100 ⎥⎥⎟  ⎜          ⎢⎢4    4 ⎥⎥⎟  ⎜         ⎢⎢4    4 ⎥⎥⎟⎥\n",
       "⎢⎜0, 1, ⎢⎢    ⎥⎥⎟, ⎜-10⋅ⅈ, 1, ⎢⎢       ⎥⎥⎟, ⎜10⋅ⅈ, 1, ⎢⎢       ⎥⎥⎟⎥\n",
       "⎢⎜      ⎢⎢1/50⎥⎥⎟  ⎜          ⎢⎢   1   ⎥⎥⎟  ⎜         ⎢⎢   1   ⎥⎥⎟⎥\n",
       "⎢⎜      ⎢⎢    ⎥⎥⎟  ⎜          ⎢⎢       ⎥⎥⎟  ⎜         ⎢⎢       ⎥⎥⎟⎥\n",
       "⎣⎝      ⎣⎣ 1  ⎦⎦⎠  ⎝          ⎣⎣   0   ⎦⎦⎠  ⎝         ⎣⎣   0   ⎦⎦⎠⎦"
      ]
     },
     "execution_count": 53,
     "metadata": {},
     "output_type": "execute_result"
    }
   ],
   "source": [
    "CoreyJR.eigenvects()"
   ]
  },
  {
   "cell_type": "code",
   "execution_count": 54,
   "id": "65899944",
   "metadata": {},
   "outputs": [
    {
     "data": {
      "text/latex": [
       "$\\displaystyle \\left[\\begin{matrix}-2 & 1 & 0\\\\1 & -2 & 1\\\\0 & 1 & -2\\end{matrix}\\right]$"
      ],
      "text/plain": [
       "⎡-2  1   0 ⎤\n",
       "⎢          ⎥\n",
       "⎢1   -2  1 ⎥\n",
       "⎢          ⎥\n",
       "⎣0   1   -2⎦"
      ]
     },
     "execution_count": 54,
     "metadata": {},
     "output_type": "execute_result"
    }
   ],
   "source": [
    "C  = Matrix ( [ [-(1+1), 1, 0] , [1, -(1+1), 1] , [0, 1 , -(1+1)] ] )\n",
    "C"
   ]
  },
  {
   "cell_type": "code",
   "execution_count": 55,
   "id": "911ad782",
   "metadata": {},
   "outputs": [
    {
     "data": {
      "image/png": "[encoded data removed]",
      "text/latex": [
       "$\\displaystyle \\left\\{ -2 : 1, \\  -2 - \\sqrt{2} : 1, \\  -2 + \\sqrt{2} : 1\\right\\}$"
      ],
      "text/plain": [
       "{-2: 1, -2 - √2: 1, -2 + √2: 1}"
      ]
     },
     "execution_count": 55,
     "metadata": {},
     "output_type": "execute_result"
    }
   ],
   "source": [
    "C.eigenvals()"
   ]
  },
  {
   "cell_type": "code",
   "execution_count": 56,
   "id": "87474d3d",
   "metadata": {},
   "outputs": [
    {
     "data": {
      "text/latex": [
       "$\\displaystyle \\left[ \\left( -2, \\  1, \\  \\left[ \\left[\\begin{matrix}-1\\\\0\\\\1\\end{matrix}\\right]\\right]\\right), \\  \\left( -2 - \\sqrt{2}, \\  1, \\  \\left[ \\left[\\begin{matrix}1\\\\- \\sqrt{2}\\\\1\\end{matrix}\\right]\\right]\\right), \\  \\left( -2 + \\sqrt{2}, \\  1, \\  \\left[ \\left[\\begin{matrix}1\\\\\\sqrt{2}\\\\1\\end{matrix}\\right]\\right]\\right)\\right]$"
      ],
      "text/plain": [
       "⎡⎛       ⎡⎡-1⎤⎤⎞  ⎛            ⎡⎡ 1 ⎤⎤⎞  ⎛            ⎡⎡1 ⎤⎤⎞⎤\n",
       "⎢⎜       ⎢⎢  ⎥⎥⎟  ⎜            ⎢⎢   ⎥⎥⎟  ⎜            ⎢⎢  ⎥⎥⎟⎥\n",
       "⎢⎜-2, 1, ⎢⎢0 ⎥⎥⎟, ⎜-2 - √2, 1, ⎢⎢-√2⎥⎥⎟, ⎜-2 + √2, 1, ⎢⎢√2⎥⎥⎟⎥\n",
       "⎢⎜       ⎢⎢  ⎥⎥⎟  ⎜            ⎢⎢   ⎥⎥⎟  ⎜            ⎢⎢  ⎥⎥⎟⎥\n",
       "⎣⎝       ⎣⎣1 ⎦⎦⎠  ⎝            ⎣⎣ 1 ⎦⎦⎠  ⎝            ⎣⎣1 ⎦⎦⎠⎦"
      ]
     },
     "execution_count": 56,
     "metadata": {},
     "output_type": "execute_result"
    }
   ],
   "source": [
    "C.eigenvects()"
   ]
  },
  {
   "cell_type": "code",
   "execution_count": 61,
   "id": "654a95c0",
   "metadata": {},
   "outputs": [
    {
     "data": {
      "image/png": "[encoded data removed]",
      "text/latex": [
       "$\\displaystyle -2$"
      ],
      "text/plain": [
       "-2"
      ]
     },
     "execution_count": 61,
     "metadata": {},
     "output_type": "execute_result"
    }
   ],
   "source": [
    "x1 = -2\n",
    "x1"
   ]
  },
  {
   "cell_type": "code",
   "execution_count": 62,
   "id": "4334918b",
   "metadata": {},
   "outputs": [
    {
     "data": {
      "image/png": "[encoded data removed]",
      "text/latex": [
       "$\\displaystyle -2 + \\sqrt{2}$"
      ],
      "text/plain": [
       "-2 + √2"
      ]
     },
     "execution_count": 62,
     "metadata": {},
     "output_type": "execute_result"
    }
   ],
   "source": [
    "x2 = -2 + sqrt(2)\n",
    "x2"
   ]
  },
  {
   "cell_type": "code",
   "execution_count": 63,
   "id": "8d67e310",
   "metadata": {},
   "outputs": [
    {
     "data": {
      "image/png": "[encoded data removed]",
      "text/latex": [
       "$\\displaystyle -2 - \\sqrt{2}$"
      ],
      "text/plain": [
       "-2 - √2"
      ]
     },
     "execution_count": 63,
     "metadata": {},
     "output_type": "execute_result"
    }
   ],
   "source": [
    "x3 = -2 - sqrt(2)\n",
    "x3"
   ]
  },
  {
   "cell_type": "code",
   "execution_count": 6,
   "id": "5c61101f",
   "metadata": {},
   "outputs": [
    {
     "data": {
      "text/latex": [
       "$\\displaystyle \\left[\\begin{matrix}-1.8 & 1.66666666666667 & 2\\\\-3.6 & 6.66666666666667 & -1\\\\0 & 0 & 0\\end{matrix}\\right]$"
      ],
      "text/plain": [
       "⎡-1.8  1.66666666666667  2 ⎤\n",
       "⎢                          ⎥\n",
       "⎢-3.6  6.66666666666667  -1⎥\n",
       "⎢                          ⎥\n",
       "⎣ 0           0          0 ⎦"
      ]
     },
     "execution_count": 6,
     "metadata": {},
     "output_type": "execute_result"
    }
   ],
   "source": [
    "pls = Matrix ( [ [-9/5,5/3,2] , [-18/5,20/3,-1] , [0,0,0] ] )\n",
    "pls"
   ]
  },
  {
   "cell_type": "code",
   "execution_count": 7,
   "id": "6aae72ec",
   "metadata": {},
   "outputs": [
    {
     "data": {
      "image/png": "[encoded data removed]",
      "text/latex": [
       "$\\displaystyle \\left\\{ -1.01936287558965 : 1, \\  0 : 1, \\  5.88602954225631 : 1\\right\\}$"
      ],
      "text/plain": [
       "{-1.01936287558965: 1, 0: 1, 5.88602954225631: 1}"
      ]
     },
     "execution_count": 7,
     "metadata": {},
     "output_type": "execute_result"
    }
   ],
   "source": [
    "pls.eigenvals()"
   ]
  },
  {
   "cell_type": "code",
   "execution_count": null,
   "id": "c9671ac0",
   "metadata": {},
   "outputs": [],
   "source": []
  }
 ],
 "metadata": {
  "kernelspec": {
   "display_name": "Python 3 (ipykernel)",
   "language": "python",
   "name": "python3"
  },
  "language_info": {
   "codemirror_mode": {
    "name": "ipython",
    "version": 3
   },
   "file_extension": ".py",
   "mimetype": "text/x-python",
   "name": "python",
   "nbconvert_exporter": "python",
   "pygments_lexer": "ipython3",
   "version": "3.9.13"
  }
 },
 "nbformat": 4,
 "nbformat_minor": 5
}
