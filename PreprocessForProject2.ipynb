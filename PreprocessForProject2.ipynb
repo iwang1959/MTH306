{
 "cells": [
  {
   "cell_type": "code",
   "execution_count": 1,
   "id": "e3351d3f",
   "metadata": {},
   "outputs": [],
   "source": [
    "from resources306 import*"
   ]
  },
  {
   "cell_type": "code",
   "execution_count": 2,
   "id": "9a880a4e",
   "metadata": {},
   "outputs": [],
   "source": [
    "from sympy import*\n",
    "init_printing()"
   ]
  },
  {
   "cell_type": "code",
   "execution_count": 3,
   "id": "0ffb9a79",
   "metadata": {},
   "outputs": [
    {
     "data": {
      "text/latex": [
       "$\\displaystyle \\left[\\begin{matrix}1 & 2 & 3\\\\4 & 5 & 6\\\\7 & 8 & 9\\end{matrix}\\right]$"
      ],
      "text/plain": [
       "⎡1  2  3⎤\n",
       "⎢       ⎥\n",
       "⎢4  5  6⎥\n",
       "⎢       ⎥\n",
       "⎣7  8  9⎦"
      ]
     },
     "execution_count": 3,
     "metadata": {},
     "output_type": "execute_result"
    }
   ],
   "source": [
    "A = Matrix ( [ [1,2,3] , [4,5,6] , [7,8,9] ] )\n",
    "A"
   ]
  },
  {
   "cell_type": "code",
   "execution_count": 4,
   "id": "3e817c27",
   "metadata": {},
   "outputs": [],
   "source": [
    "lamda = symbols('lamda')"
   ]
  },
  {
   "cell_type": "code",
   "execution_count": 5,
   "id": "a6ac2b64",
   "metadata": {},
   "outputs": [
    {
     "data": {
      "image/png": "[encoded data removed]",
      "text/latex": [
       "$\\displaystyle \\operatorname{PurePoly}{\\left( \\lambda^{3} - 15 \\lambda^{2} - 18 \\lambda, \\lambda, domain=\\mathbb{Z} \\right)}$"
      ],
      "text/plain": [
       "PurePoly(lamda**3 - 15*lamda**2 - 18*lamda, lamda, domain='ZZ')"
      ]
     },
     "execution_count": 5,
     "metadata": {},
     "output_type": "execute_result"
    }
   ],
   "source": [
    "p = A.charpoly(lamda)\n",
    "p"
   ]
  },
  {
   "cell_type": "code",
   "execution_count": 6,
   "id": "6c615562",
   "metadata": {},
   "outputs": [
    {
     "data": {
      "image/png": "[encoded data removed]",
      "text/latex": [
       "$\\displaystyle \\lambda \\left(\\lambda^{2} - 15 \\lambda - 18\\right)$"
      ],
      "text/plain": [
       "  ⎛ 2            ⎞\n",
       "λ⋅⎝λ  - 15⋅λ - 18⎠"
      ]
     },
     "execution_count": 6,
     "metadata": {},
     "output_type": "execute_result"
    }
   ],
   "source": [
    "factor(p.as_expr())"
   ]
  },
  {
   "cell_type": "code",
   "execution_count": 8,
   "id": "46a4393d",
   "metadata": {},
   "outputs": [
    {
     "data": {
      "image/png": "[encoded data removed]",
      "text/latex": [
       "$\\displaystyle \\left\\{ 0 : 1, \\  \\frac{15}{2} - \\frac{3 \\sqrt{33}}{2} : 1, \\  \\frac{15}{2} + \\frac{3 \\sqrt{33}}{2} : 1\\right\\}$"
      ],
      "text/plain": [
       "⎧      15   3⋅√33     15   3⋅√33   ⎫\n",
       "⎨0: 1, ── - ─────: 1, ── + ─────: 1⎬\n",
       "⎩      2      2       2      2     ⎭"
      ]
     },
     "execution_count": 8,
     "metadata": {},
     "output_type": "execute_result"
    }
   ],
   "source": [
    "A.eigenvals()"
   ]
  },
  {
   "cell_type": "code",
   "execution_count": 9,
   "id": "83179262",
   "metadata": {},
   "outputs": [
    {
     "data": {
      "text/latex": [
       "$\\displaystyle \\left[ \\left( 0, \\  1, \\  \\left[ \\left[\\begin{matrix}1\\\\-2\\\\1\\end{matrix}\\right]\\right]\\right), \\  \\left( \\frac{15}{2} - \\frac{3 \\sqrt{33}}{2}, \\  1, \\  \\left[ \\left[\\begin{matrix}- \\frac{3 \\sqrt{33}}{22} - \\frac{1}{2}\\\\\\frac{1}{4} - \\frac{3 \\sqrt{33}}{44}\\\\1\\end{matrix}\\right]\\right]\\right), \\  \\left( \\frac{15}{2} + \\frac{3 \\sqrt{33}}{2}, \\  1, \\  \\left[ \\left[\\begin{matrix}- \\frac{1}{2} + \\frac{3 \\sqrt{33}}{22}\\\\\\frac{1}{4} + \\frac{3 \\sqrt{33}}{44}\\\\1\\end{matrix}\\right]\\right]\\right)\\right]$"
      ],
      "text/plain": [
       "⎡                ⎛               ⎡⎡  3⋅√33   1⎤⎤⎞  ⎛               ⎡⎡  1   3⋅√\n",
       "⎢                ⎜               ⎢⎢- ───── - ─⎥⎥⎟  ⎜               ⎢⎢- ─ + ───\n",
       "⎢⎛      ⎡⎡1 ⎤⎤⎞  ⎜               ⎢⎢    22    2⎥⎥⎟  ⎜               ⎢⎢  2     2\n",
       "⎢⎜      ⎢⎢  ⎥⎥⎟  ⎜15   3⋅√33     ⎢⎢           ⎥⎥⎟  ⎜15   3⋅√33     ⎢⎢         \n",
       "⎢⎜0, 1, ⎢⎢-2⎥⎥⎟, ⎜── - ─────, 1, ⎢⎢ 1   3⋅√33 ⎥⎥⎟, ⎜── + ─────, 1, ⎢⎢ 1   3⋅√3\n",
       "⎢⎜      ⎢⎢  ⎥⎥⎟  ⎜2      2       ⎢⎢ ─ - ───── ⎥⎥⎟  ⎜2      2       ⎢⎢ ─ + ────\n",
       "⎢⎝      ⎣⎣1 ⎦⎦⎠  ⎜               ⎢⎢ 4     44  ⎥⎥⎟  ⎜               ⎢⎢ 4     44\n",
       "⎢                ⎜               ⎢⎢           ⎥⎥⎟  ⎜               ⎢⎢         \n",
       "⎣                ⎝               ⎣⎣     1     ⎦⎦⎠  ⎝               ⎣⎣     1   \n",
       "\n",
       "33⎤⎤⎞⎤\n",
       "──⎥⎥⎟⎥\n",
       "2 ⎥⎥⎟⎥\n",
       "  ⎥⎥⎟⎥\n",
       "3 ⎥⎥⎟⎥\n",
       "─ ⎥⎥⎟⎥\n",
       "  ⎥⎥⎟⎥\n",
       "  ⎥⎥⎟⎥\n",
       "  ⎦⎦⎠⎦"
      ]
     },
     "execution_count": 9,
     "metadata": {},
     "output_type": "execute_result"
    }
   ],
   "source": [
    "A.eigenvects()"
   ]
  },
  {
   "cell_type": "code",
   "execution_count": null,
   "id": "42b92a52",
   "metadata": {},
   "outputs": [],
   "source": []
  }
 ],
 "metadata": {
  "kernelspec": {
   "display_name": "Python 3 (ipykernel)",
   "language": "python",
   "name": "python3"
  },
  "language_info": {
   "codemirror_mode": {
    "name": "ipython",
    "version": 3
   },
   "file_extension": ".py",
   "mimetype": "text/x-python",
   "name": "python",
   "nbconvert_exporter": "python",
   "pygments_lexer": "ipython3",
   "version": "3.9.13"
  }
 },
 "nbformat": 4,
 "nbformat_minor": 5
}
