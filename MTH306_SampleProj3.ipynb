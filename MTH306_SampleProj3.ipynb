{
 "cells": [
  {
   "cell_type": "code",
   "execution_count": 1,
   "id": "325458d3",
   "metadata": {},
   "outputs": [],
   "source": [
    "from resources306 import*\n",
    "from sympy.integrals import laplace_transform as L, inverse_laplace_transform as Linv"
   ]
  },
  {
   "cell_type": "code",
   "execution_count": 2,
   "id": "e847f0ed",
   "metadata": {},
   "outputs": [],
   "source": [
    "s, t = sp.symbols('s t')\n",
    "w = sp.symbols('w')"
   ]
  },
  {
   "cell_type": "code",
   "execution_count": 3,
   "id": "e8b04835",
   "metadata": {},
   "outputs": [
    {
     "data": {
      "image/png": "[encoded data removed]",
      "text/latex": [
       "$\\displaystyle \\frac{w}{s^{2} + w^{2}}$"
      ],
      "text/plain": [
       "   w   \n",
       "───────\n",
       " 2    2\n",
       "s  + w "
      ]
     },
     "execution_count": 3,
     "metadata": {},
     "output_type": "execute_result"
    }
   ],
   "source": [
    "L(sp.sin(w*t), t, s)[0]"
   ]
  },
  {
   "cell_type": "code",
   "execution_count": 4,
   "id": "742ca704",
   "metadata": {},
   "outputs": [
    {
     "data": {
      "image/png": "[encoded data removed]",
      "text/latex": [
       "$\\displaystyle \\frac{s}{s^{2} + w^{2}}$"
      ],
      "text/plain": [
       "   s   \n",
       "───────\n",
       " 2    2\n",
       "s  + w "
      ]
     },
     "execution_count": 4,
     "metadata": {},
     "output_type": "execute_result"
    }
   ],
   "source": [
    "L(sp.cos(w*t), t, s)[0] "
   ]
  },
  {
   "cell_type": "code",
   "execution_count": 5,
   "id": "759e4c54",
   "metadata": {},
   "outputs": [
    {
     "data": {
      "image/png": "[encoded data removed]",
      "text/latex": [
       "$\\displaystyle \\frac{1}{s^{3}}$"
      ],
      "text/plain": [
       "1 \n",
       "──\n",
       " 3\n",
       "s "
      ]
     },
     "execution_count": 5,
     "metadata": {},
     "output_type": "execute_result"
    }
   ],
   "source": [
    "F = 1/(s**3)\n",
    "F"
   ]
  },
  {
   "cell_type": "code",
   "execution_count": 6,
   "id": "223c3918",
   "metadata": {},
   "outputs": [
    {
     "data": {
      "image/png": "[encoded data removed]",
      "text/latex": [
       "$\\displaystyle \\frac{t^{2} \\theta\\left(t\\right)}{2}$"
      ],
      "text/plain": [
       " 2     \n",
       "t ⋅θ(t)\n",
       "───────\n",
       "   2   "
      ]
     },
     "execution_count": 6,
     "metadata": {},
     "output_type": "execute_result"
    }
   ],
   "source": [
    "f = Linv(F,s,t)\n",
    "f"
   ]
  },
  {
   "cell_type": "code",
   "execution_count": null,
   "id": "a38e6d51",
   "metadata": {},
   "outputs": [],
   "source": []
  }
 ],
 "metadata": {
  "kernelspec": {
   "display_name": "Python 3 (ipykernel)",
   "language": "python",
   "name": "python3"
  },
  "language_info": {
   "codemirror_mode": {
    "name": "ipython",
    "version": 3
   },
   "file_extension": ".py",
   "mimetype": "text/x-python",
   "name": "python",
   "nbconvert_exporter": "python",
   "pygments_lexer": "ipython3",
   "version": "3.9.13"
  }
 },
 "nbformat": 4,
 "nbformat_minor": 5
}
