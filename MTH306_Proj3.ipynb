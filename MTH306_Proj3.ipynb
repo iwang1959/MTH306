{
 "cells": [
  {
   "cell_type": "code",
   "execution_count": 1,
   "id": "5e6fb513",
   "metadata": {},
   "outputs": [],
   "source": [
    "#IvanWang #50414321"
   ]
  },
  {
   "cell_type": "code",
   "execution_count": 2,
   "id": "99a970c0",
   "metadata": {},
   "outputs": [],
   "source": [
    "#ChocolateChipCookieDough #RainbowSprinkles"
   ]
  },
  {
   "cell_type": "code",
   "execution_count": 3,
   "id": "28c22d94",
   "metadata": {},
   "outputs": [],
   "source": [
    "from resources306 import*\n",
    "from sympy.integrals import laplace_transform as L, inverse_laplace_transform as Linv"
   ]
  },
  {
   "cell_type": "code",
   "execution_count": 4,
   "id": "cb19b01d",
   "metadata": {},
   "outputs": [],
   "source": [
    "s, t = sp.symbols('s t')\n",
    "w = sp.symbols('w')"
   ]
  },
  {
   "cell_type": "code",
   "execution_count": 5,
   "id": "88a33b66",
   "metadata": {},
   "outputs": [
    {
     "data": {
      "image/png": "[encoded data removed]",
      "text/latex": [
       "$\\displaystyle \\frac{1}{s^{2}}$"
      ],
      "text/plain": [
       "1 \n",
       "──\n",
       " 2\n",
       "s "
      ]
     },
     "execution_count": 5,
     "metadata": {},
     "output_type": "execute_result"
    }
   ],
   "source": [
    "L(t, t, s)[0]"
   ]
  },
  {
   "cell_type": "code",
   "execution_count": 7,
   "id": "852af70e",
   "metadata": {},
   "outputs": [
    {
     "data": {
      "image/png": "[encoded data removed]",
      "text/latex": [
       "$\\displaystyle \\frac{1}{s - 8}$"
      ],
      "text/plain": [
       "  1  \n",
       "─────\n",
       "s - 8"
      ]
     },
     "execution_count": 7,
     "metadata": {},
     "output_type": "execute_result"
    }
   ],
   "source": [
    "L(sp.exp(8*t), t, s)[0]"
   ]
  },
  {
   "cell_type": "code",
   "execution_count": 8,
   "id": "373e6f3d",
   "metadata": {},
   "outputs": [
    {
     "data": {
      "image/png": "[encoded data removed]",
      "text/latex": [
       "$\\displaystyle \\frac{s}{s^{2} + 9}$"
      ],
      "text/plain": [
       "  s   \n",
       "──────\n",
       " 2    \n",
       "s  + 9"
      ]
     },
     "execution_count": 8,
     "metadata": {},
     "output_type": "execute_result"
    }
   ],
   "source": [
    "L(sp.cos(3*t), t, s)[0]"
   ]
  },
  {
   "cell_type": "code",
   "execution_count": 9,
   "id": "783ef290",
   "metadata": {},
   "outputs": [
    {
     "data": {
      "image/png": "[encoded data removed]",
      "text/latex": [
       "$\\displaystyle \\frac{5}{s^{2} + 25}$"
      ],
      "text/plain": [
       "   5   \n",
       "───────\n",
       " 2     \n",
       "s  + 25"
      ]
     },
     "execution_count": 9,
     "metadata": {},
     "output_type": "execute_result"
    }
   ],
   "source": [
    "L(sp.sin(5*t), t, s)[0]"
   ]
  },
  {
   "cell_type": "code",
   "execution_count": 10,
   "id": "2e614773",
   "metadata": {},
   "outputs": [
    {
     "data": {
      "image/png": "[encoded data removed]",
      "text/latex": [
       "$\\displaystyle \\frac{1}{s - 4}$"
      ],
      "text/plain": [
       "  1  \n",
       "─────\n",
       "s - 4"
      ]
     },
     "execution_count": 10,
     "metadata": {},
     "output_type": "execute_result"
    }
   ],
   "source": [
    "F1 = 1/(s-4)\n",
    "F1"
   ]
  },
  {
   "cell_type": "code",
   "execution_count": 11,
   "id": "94820cfd",
   "metadata": {},
   "outputs": [
    {
     "data": {
      "image/png": "[encoded data removed]",
      "text/latex": [
       "$\\displaystyle e^{4 t} \\theta\\left(t\\right)$"
      ],
      "text/plain": [
       " 4⋅t     \n",
       "ℯ   ⋅θ(t)"
      ]
     },
     "execution_count": 11,
     "metadata": {},
     "output_type": "execute_result"
    }
   ],
   "source": [
    "f1 = Linv(F1,s,t)\n",
    "f1"
   ]
  },
  {
   "cell_type": "code",
   "execution_count": 12,
   "id": "3b9a75ce",
   "metadata": {},
   "outputs": [
    {
     "data": {
      "image/png": "[encoded data removed]",
      "text/latex": [
       "$\\displaystyle \\frac{s}{s^{2} + 81}$"
      ],
      "text/plain": [
       "   s   \n",
       "───────\n",
       " 2     \n",
       "s  + 81"
      ]
     },
     "execution_count": 12,
     "metadata": {},
     "output_type": "execute_result"
    }
   ],
   "source": [
    "F2 = s/(s**2 + 81)\n",
    "F2"
   ]
  },
  {
   "cell_type": "code",
   "execution_count": 13,
   "id": "314b105f",
   "metadata": {},
   "outputs": [
    {
     "data": {
      "image/png": "[encoded data removed]",
      "text/latex": [
       "$\\displaystyle \\cos{\\left(9 t \\right)} \\theta\\left(t\\right)$"
      ],
      "text/plain": [
       "cos(9⋅t)⋅θ(t)"
      ]
     },
     "execution_count": 13,
     "metadata": {},
     "output_type": "execute_result"
    }
   ],
   "source": [
    "f2 = Linv(F2,s,t)\n",
    "f2"
   ]
  },
  {
   "cell_type": "code",
   "execution_count": 14,
   "id": "35eb53e5",
   "metadata": {},
   "outputs": [
    {
     "data": {
      "image/png": "[encoded data removed]",
      "text/latex": [
       "$\\displaystyle \\frac{9}{s^{2} + 81}$"
      ],
      "text/plain": [
       "   9   \n",
       "───────\n",
       " 2     \n",
       "s  + 81"
      ]
     },
     "execution_count": 14,
     "metadata": {},
     "output_type": "execute_result"
    }
   ],
   "source": [
    "F3 = 9/(s**2 + 81)\n",
    "F3"
   ]
  },
  {
   "cell_type": "code",
   "execution_count": 15,
   "id": "ac80f28a",
   "metadata": {},
   "outputs": [
    {
     "data": {
      "image/png": "[encoded data removed]",
      "text/latex": [
       "$\\displaystyle \\sin{\\left(9 t \\right)} \\theta\\left(t\\right)$"
      ],
      "text/plain": [
       "sin(9⋅t)⋅θ(t)"
      ]
     },
     "execution_count": 15,
     "metadata": {},
     "output_type": "execute_result"
    }
   ],
   "source": [
    "f3 = Linv(F3,s,t)\n",
    "f3"
   ]
  },
  {
   "cell_type": "code",
   "execution_count": 16,
   "id": "a9e9b0a0",
   "metadata": {},
   "outputs": [
    {
     "data": {
      "image/png": "[encoded data removed]",
      "text/latex": [
       "$\\displaystyle \\frac{24}{s^{5}}$"
      ],
      "text/plain": [
       "24\n",
       "──\n",
       " 5\n",
       "s "
      ]
     },
     "execution_count": 16,
     "metadata": {},
     "output_type": "execute_result"
    }
   ],
   "source": [
    "F4 = 24/s**5\n",
    "F4"
   ]
  },
  {
   "cell_type": "code",
   "execution_count": 17,
   "id": "4ebb5e9d",
   "metadata": {},
   "outputs": [
    {
     "data": {
      "image/png": "[encoded data removed]",
      "text/latex": [
       "$\\displaystyle t^{4} \\theta\\left(t\\right)$"
      ],
      "text/plain": [
       " 4     \n",
       "t ⋅θ(t)"
      ]
     },
     "execution_count": 17,
     "metadata": {},
     "output_type": "execute_result"
    }
   ],
   "source": [
    "f4 = Linv(F4,s,t)\n",
    "f4"
   ]
  },
  {
   "cell_type": "code",
   "execution_count": 18,
   "id": "7a04c163",
   "metadata": {},
   "outputs": [],
   "source": [
    "#highfive #imgoingtoyeetoutofhereprof"
   ]
  },
  {
   "cell_type": "code",
   "execution_count": null,
   "id": "8aaecf1c",
   "metadata": {},
   "outputs": [],
   "source": []
  }
 ],
 "metadata": {
  "kernelspec": {
   "display_name": "Python 3 (ipykernel)",
   "language": "python",
   "name": "python3"
  },
  "language_info": {
   "codemirror_mode": {
    "name": "ipython",
    "version": 3
   },
   "file_extension": ".py",
   "mimetype": "text/x-python",
   "name": "python",
   "nbconvert_exporter": "python",
   "pygments_lexer": "ipython3",
   "version": "3.9.13"
  }
 },
 "nbformat": 4,
 "nbformat_minor": 5
}
